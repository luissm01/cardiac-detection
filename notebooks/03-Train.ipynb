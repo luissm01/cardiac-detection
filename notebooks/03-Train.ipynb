{
 "cells": [
  {
   "cell_type": "markdown",
   "id": "saved-cartoon",
   "metadata": {},
   "source": [
    "## Introduction\n",
    "We are ready to train the Cardiac Detection Model now!"
   ]
  },
  {
   "cell_type": "markdown",
   "id": "expressed-float",
   "metadata": {},
   "source": [
    "## Imports:\n",
    "\n",
    "* torch and torchvision for model and dataloader creation\n",
    "* pytorch lightning for efficient and easy training implementation\n",
    "* ModelCheckpoint and TensorboardLogger for checkpoint saving and logging\n",
    "* numpy data loading\n",
    "* cv2 for drawing rectangles on images\n",
    "* imgaug for augmentation pipeline\n",
    "* Our CardiacDataset\n",
    "\n"
   ]
  },
  {
   "cell_type": "code",
   "execution_count": 37,
   "id": "cosmetic-healthcare",
   "metadata": {},
   "outputs": [],
   "source": [
    "import sys\n",
    "from pathlib import Path\n",
    "BASE_DIR = Path.cwd().parent\n",
    "sys.path.append(BASE_DIR / \"scripts\")\n",
    "from dataset import CardiacDataset\n",
    "\n",
    "import torch\n",
    "import torchvision\n",
    "import pytorch_lightning as pl\n",
    "from pytorch_lightning.callbacks import ModelCheckpoint\n",
    "from pytorch_lightning.loggers import TensorBoardLogger\n",
    "import numpy as np\n",
    "import cv2\n",
    "import imgaug.augmenters as iaa\n",
    "\n"
   ]
  },
  {
   "cell_type": "markdown",
   "id": "stock-switch",
   "metadata": {},
   "source": [
    "We define the paths for the training and validation datasets and create a basic augmentation pipeline using `imgaug.Sequential`. The augmentations applied include:\n",
    "\n",
    "- Gamma contrast adjustment\n",
    "- Random scaling, rotation, and translation\n",
    "\n",
    "These transformations help to artificially increase the diversity of the training data, improving model robustness."
   ]
  },
  {
   "cell_type": "code",
   "execution_count": 38,
   "id": "advanced-filing",
   "metadata": {},
   "outputs": [],
   "source": [
    "train_root_path = BASE_DIR / \"data\" / \"processed\" / \"train\"\n",
    "train_subjects = BASE_DIR / \"data\" / \"processed\" / \"train_subjects_det.npy\"\n",
    "val_root_path = BASE_DIR / \"data\" / \"processed\" / \"val\"\n",
    "val_subjects = BASE_DIR / \"data\" / \"processed\" / \"val_subjects_det.npy\"\n",
    "\n",
    "train_transforms = iaa.Sequential([\n",
    "                                iaa.GammaContrast(),\n",
    "                                iaa.Affine(\n",
    "                                    scale=(0.8, 1.2),\n",
    "                                    rotate=(-10, 10),\n",
    "                                    translate_px=(-10, 10)\n",
    "                                )\n",
    "                            ])"
   ]
  },
  {
   "cell_type": "markdown",
   "id": "3564e60b",
   "metadata": {},
   "source": [
    "We instantiate two `CardiacDataset` objects:\n",
    "- One for training, with augmentations applied.\n",
    "- One for validation, without augmentations.\n",
    "\n",
    "Each dataset loads images and corresponding bounding box labels from the preprocessed data and the CSV file."
   ]
  },
  {
   "cell_type": "code",
   "execution_count": 39,
   "id": "considered-august",
   "metadata": {},
   "outputs": [],
   "source": [
    "train_dataset = CardiacDataset(BASE_DIR / \"resources\" / \"rsna_heart_detection.csv\", train_subjects, train_root_path, train_transforms)\n",
    "val_dataset = CardiacDataset(BASE_DIR / \"resources\" / \"rsna_heart_detection.csv\", val_subjects, val_root_path, None)"
   ]
  },
  {
   "cell_type": "markdown",
   "id": "ac6f0af5",
   "metadata": {},
   "source": [
    "In our setup, we train the model by executing a standalone Python script (`train.py`), not inside this notebook.  \n",
    "This allows us to take full advantage of multiprocessing for faster data loading — specifically by setting `num_workers = 8` when running on Windows.\n",
    "\n",
    "However, notebooks (such as Jupyter or IPython environments) don't handle multiprocessing well with PyTorch's DataLoader.  \n",
    "To prevent issues like deadlocks or infinite loops during development or validation, we check whether the code is running inside a notebook using the `is_notebook()` helper function.\n",
    "\n",
    "If we detect a notebook environment, we disable multiprocessing by setting:\n",
    "- `num_workers = 0`\n",
    "- `persistent_workers = False`\n",
    "\n",
    "When running the actual training via `train.py`, this check will evaluate to `False`, enabling efficient multi-worker loading.\n",
    "\n",
    "In short:\n",
    "- **Training is done via script** for speed (8 workers).\n",
    "- **Evaluation and exploration** are done in this notebook (0 workers for compatibility)."
   ]
  },
  {
   "cell_type": "code",
   "execution_count": 40,
   "id": "fba812d8",
   "metadata": {},
   "outputs": [],
   "source": [
    "import os\n",
    "import sys"
   ]
  },
  {
   "cell_type": "code",
   "execution_count": 41,
   "id": "43245434",
   "metadata": {},
   "outputs": [],
   "source": [
    "def is_notebook():\n",
    "    try:\n",
    "        shell = get_ipython().__class__.__name__\n",
    "        return shell == \"ZMQInteractiveShell\"\n",
    "    except NameError:\n",
    "        return False"
   ]
  },
  {
   "cell_type": "code",
   "execution_count": 42,
   "id": "9e0bc02d",
   "metadata": {},
   "outputs": [],
   "source": [
    "# Use more workers if safe (e.g. script, not notebook)\n",
    "if os.name == 'nt' and not is_notebook():\n",
    "    num_workers = min(8, os.cpu_count())  # Use up to 8 workers safely\n",
    "    persistent_workers = True\n",
    "else:\n",
    "    num_workers = 0\n",
    "    persistent_workers = False"
   ]
  },
  {
   "cell_type": "markdown",
   "id": "03e3aa37",
   "metadata": {},
   "source": [
    "We wrap both datasets with PyTorch `DataLoader` objects to efficiently batch and serve data during training and validation.\n",
    "\n",
    "- `train_loader` uses `shuffle=True` to randomize the order of training samples in each epoch.\n",
    "- `val_loader` uses `shuffle=False` to ensure consistent evaluation."
   ]
  },
  {
   "cell_type": "code",
   "execution_count": 43,
   "id": "indirect-loading",
   "metadata": {},
   "outputs": [],
   "source": [
    "batch_size = 8\n",
    "\n",
    "\n",
    "train_loader = torch.utils.data.DataLoader(train_dataset, batch_size=batch_size,\n",
    "                                           num_workers=num_workers, shuffle=True)\n",
    "val_loader = torch.utils.data.DataLoader(val_dataset, batch_size=batch_size, num_workers=num_workers, shuffle=False)\n"
   ]
  },
  {
   "cell_type": "markdown",
   "id": "known-forum",
   "metadata": {},
   "source": [
    "## Model Creation"
   ]
  },
  {
   "cell_type": "markdown",
   "id": "worse-processor",
   "metadata": {},
   "source": [
    "### Defining the cardiac detection model (LightningModule)\n",
    "\n",
    "We define our model by subclassing `pytorch_lightning.LightningModule`, which provides a clean structure for training, validation, logging, and saving models.\n",
    "\n",
    "Below is a detailed explanation of how the model behaves throughout the training process:\n",
    "\n",
    "---\n",
    "\n",
    "#### 1. `__init__`: Model initialization\n",
    "\n",
    "The constructor is executed **once at the beginning**, when the model is instantiated.\n",
    "\n",
    "Here we define:\n",
    "- A pretrained ResNet18 as the backbone, with modifications:\n",
    "  - The first convolution layer is adapted to accept grayscale images (`1` channel).\n",
    "  - The final fully connected layer is replaced to output 4 values corresponding to the bounding box coordinates: `[x0, y0, x1, y1]`.\n",
    "- The optimizer used is **Adam**, with a learning rate of `1e-4`.\n",
    "- The loss function is **Mean Squared Error (MSE)**, as we're performing bounding box regression.\n",
    "- Two lists to store training and validation losses per epoch (`train_losses`, `val_losses`).\n",
    "\n",
    "---\n",
    "\n",
    "#### 2. `forward`: Inference logic\n",
    "\n",
    "Defines how a batch of data flows through the model.  \n",
    "Called internally during training, validation, or manual inference.\n",
    "\n",
    "---\n",
    "\n",
    "#### 3. `training_step`: Runs once per training batch\n",
    "\n",
    "This is executed **many times per epoch**, once per batch.\n",
    "\n",
    "What it does:\n",
    "- Receives a batch `(x_ray, label)` from the `train_loader`.\n",
    "- Computes model predictions and the loss.\n",
    "- Logs the batch loss under the name `\"train_loss\"`.\n",
    "- Every 50 batches, it logs visual predictions using `self.log_images()`.\n",
    "\n",
    "Returns:\n",
    "- A dictionary with the loss that will be used later in `training_epoch_end`.\n",
    "\n",
    "---\n",
    "\n",
    "#### 4. `training_epoch_end`: Runs once per training epoch\n",
    "\n",
    "After all batches in an epoch have been processed, this method is called.\n",
    "\n",
    "It:\n",
    "- Computes the average training loss for the epoch.\n",
    "- Logs it as `\"avg_train_loss\"` for monitoring.\n",
    "- Appends it to the internal list `self.train_losses` for later export.\n",
    "\n",
    "---\n",
    "\n",
    "#### 5. `validation_step`: Runs once per validation batch\n",
    "\n",
    "Analogous to `training_step`, but for the validation set.\n",
    "\n",
    "- Uses the same loss function (MSE).\n",
    "- Logs `\"val_loss\"` and visual predictions every 50 batches.\n",
    "- Returns a dictionary with the loss, for use in `validation_epoch_end`.\n",
    "\n",
    "---\n",
    "\n",
    "#### 6. `validation_epoch_end`: Runs once per validation epoch\n",
    "\n",
    "After all validation batches are processed:\n",
    "- Computes the average validation loss.\n",
    "- Logs it as `\"avg_val_loss\"`.\n",
    "- Stores it in `self.val_losses` for metric tracking.\n",
    "\n",
    "This is the value used by the `ModelCheckpoint` callback to save the best model.\n",
    "\n",
    "---\n",
    "\n",
    "#### 7. `log_images`: Visual logging to TensorBoard\n",
    "\n",
    "This helper method draws both the **ground truth** and **predicted** bounding boxes on the images, then logs them to TensorBoard.\n",
    "\n",
    "Details:\n",
    "- Only logs the first 4 images in the batch (or fewer if batch size is small).\n",
    "- Uses black for ground truth, white for predictions.\n",
    "\n",
    "---\n",
    "\n",
    "#### 8. `configure_optimizers`: Returns the optimizer\n",
    "\n",
    "PyTorch Lightning calls this to set up training.  \n",
    "We simply return a list with the Adam optimizer defined earlier.\n",
    "\n",
    "---\n",
    "\n",
    "#### 9. `save_metrics`: Exporting epoch-level metrics\n",
    "\n",
    "After training, we call this method to export the collected metrics (`train_loss`, `val_loss`) to a `.csv` file.\n",
    "\n",
    "To avoid errors due to unequal lengths (e.g., if training stopped early), we truncate both lists to the shortest one.\n"
   ]
  },
  {
   "cell_type": "code",
   "execution_count": 44,
   "id": "neutral-square",
   "metadata": {},
   "outputs": [
    {
     "ename": "IndentationError",
     "evalue": "expected an indented block (Temp/ipykernel_20612/3844955158.py, line 81)",
     "output_type": "error",
     "traceback": [
      "\u001b[1;36m  File \u001b[1;32m\"C:\\Users\\demonki\\AppData\\Local\\Temp/ipykernel_20612/3844955158.py\"\u001b[1;36m, line \u001b[1;32m81\u001b[0m\n\u001b[1;33m    import pandas as pd\u001b[0m\n\u001b[1;37m    ^\u001b[0m\n\u001b[1;31mIndentationError\u001b[0m\u001b[1;31m:\u001b[0m expected an indented block\n"
     ]
    }
   ],
   "source": [
    "class CardiacDetectionModel(pl.LightningModule):\n",
    "    def __init__(self):\n",
    "        super().__init__()\n",
    "        \n",
    "        # Load pretrained ResNet18 and adapt it\n",
    "        self.model = torchvision.models.resnet18(pretrained=True)\n",
    "        self.model.conv1 = torch.nn.Conv2d(1, 64, kernel_size=(7, 7), stride=(2, 2), padding=(3, 3), bias=False)\n",
    "        self.model.fc = torch.nn.Linear(in_features=512, out_features=4)\n",
    "\n",
    "        # Optimizer and loss\n",
    "        self.optimizer = torch.optim.Adam(self.model.parameters(), lr=1e-4)\n",
    "        self.loss_fn = torch.nn.MSELoss()\n",
    "\n",
    "        # Tracking losses per epoch\n",
    "        self.train_losses = []\n",
    "        self.val_losses = []\n",
    "\n",
    "    def forward(self, data):\n",
    "        return self.model(data)\n",
    "\n",
    "    def training_step(self, batch, batch_idx):\n",
    "        x_ray, label = batch\n",
    "        label = label.float()\n",
    "        pred = self(x_ray)\n",
    "        loss = self.loss_fn(pred, label)\n",
    "        self.log(\"train_loss\", loss)\n",
    "\n",
    "        if batch_idx % 50 == 0:\n",
    "            self.log_images(x_ray.cpu(), pred.cpu(), label.cpu(), \"Train\")\n",
    "\n",
    "        return {\"loss\": loss}\n",
    "\n",
    "    def training_epoch_end(self, outputs):\n",
    "        avg_loss = torch.stack([x['loss'] for x in outputs]).mean()\n",
    "        self.log(\"avg_train_loss\", avg_loss, prog_bar=True)\n",
    "        self.train_losses.append(avg_loss.item())\n",
    "\n",
    "    def validation_step(self, batch, batch_idx):\n",
    "        x_ray, label = batch\n",
    "        label = label.float()\n",
    "        pred = self(x_ray)\n",
    "        loss = self.loss_fn(pred, label)\n",
    "        self.log(\"val_loss\", loss)\n",
    "\n",
    "        if batch_idx % 50 == 0:\n",
    "            self.log_images(x_ray.cpu(), pred.cpu(), label.cpu(), \"Val\")\n",
    "\n",
    "        return {\"loss\": loss}\n",
    "\n",
    "    def validation_epoch_end(self, outputs):\n",
    "        avg_loss = torch.stack([x['loss'] for x in outputs]).mean()\n",
    "        self.log(\"avg_val_loss\", avg_loss, prog_bar=True)\n",
    "        self.val_losses.append(avg_loss.item())\n",
    "\n",
    "    def log_images(self, x_ray, pred, label, name):\n",
    "        results = []\n",
    "        for i in range(min(4, x_ray.size(0))):  # Protect against batches smaller than 4\n",
    "            coords_labels = label[i]\n",
    "            coords_pred = pred[i]\n",
    "            img = ((x_ray[i] * 0.252) + 0.494).numpy()[0]\n",
    "\n",
    "            # Draw ground truth bbox\n",
    "            x0, y0 = coords_labels[0].int().item(), coords_labels[1].int().item()\n",
    "            x1, y1 = coords_labels[2].int().item(), coords_labels[3].int().item()\n",
    "            img = cv2.rectangle(img, (x0, y0), (x1, y1), (0, 0, 0), 2)\n",
    "\n",
    "            # Draw predicted bbox\n",
    "            x0, y0 = coords_pred[0].int().item(), coords_pred[1].int().item()\n",
    "            x1, y1 = coords_pred[2].int().item(), coords_pred[3].int().item()\n",
    "            img = cv2.rectangle(img, (x0, y0), (x1, y1), (1, 1, 1), 2)\n",
    "\n",
    "            results.append(torch.tensor(img).unsqueeze(0))\n",
    "\n",
    "        grid = torchvision.utils.make_grid(results, 2)\n",
    "        self.logger.experiment.add_image(f\"{name} Prediction vs Label\", grid, self.global_step)\n",
    "\n",
    "    def configure_optimizers(self):\n",
    "        return [self.optimizer]\n",
    "\n",
    "    def save_metrics(self, filename=\"training_metrics.csv\"):\n",
    "    import pandas as pd\n",
    "\n",
    "    # Ensure all lists have the same length\n",
    "    min_len = min(len(self.train_losses), len(self.val_losses))\n",
    "\n",
    "    df = pd.DataFrame({\n",
    "        \"epoch\": list(range(min_len)),\n",
    "        \"train_loss\": self.train_losses[:min_len],\n",
    "        \"val_loss\": self.val_losses[:min_len]\n",
    "    })\n",
    "    df.to_csv(filename, index=False)"
   ]
  },
  {
   "cell_type": "markdown",
   "id": "315df524",
   "metadata": {},
   "source": [
    "We now prepare and launch the training process. This involves:\n",
    "\n",
    "- **Instantiating the model** and moving it to the GPU.\n",
    "- **Defining a ModelCheckpoint callback** to automatically save the best model based on `avg_val_loss`.\n",
    "- **Creating the Trainer**, which controls the training loop, logging, and checkpointing.\n",
    "- **Starting the training** with `trainer.fit(...)`, using the defined dataloaders.\n",
    "\n",
    "The training runs for 100 epochs, and logs can be visualized using TensorBoard."
   ]
  },
  {
   "cell_type": "code",
   "execution_count": 45,
   "id": "second-stuart",
   "metadata": {},
   "outputs": [
    {
     "name": "stderr",
     "output_type": "stream",
     "text": [
      "C:\\Users\\demonki\\anaconda3\\envs\\pytorchenv\\lib\\site-packages\\torchvision\\models\\_utils.py:208: UserWarning: The parameter 'pretrained' is deprecated since 0.13 and may be removed in the future, please use 'weights' instead.\n",
      "  warnings.warn(\n",
      "C:\\Users\\demonki\\anaconda3\\envs\\pytorchenv\\lib\\site-packages\\torchvision\\models\\_utils.py:223: UserWarning: Arguments other than a weight enum or `None` for 'weights' are deprecated since 0.13 and may be removed in the future. The current behavior is equivalent to passing `weights=ResNet18_Weights.IMAGENET1K_V1`. You can also use `weights=ResNet18_Weights.DEFAULT` to get the most up-to-date weights.\n",
      "  warnings.warn(msg)\n"
     ]
    }
   ],
   "source": [
    "# Create the model object\n",
    "model = CardiacDetectionModel().to(\"cuda\")  # Instanciate the model"
   ]
  },
  {
   "cell_type": "code",
   "execution_count": 46,
   "id": "becoming-catch",
   "metadata": {},
   "outputs": [
    {
     "name": "stderr",
     "output_type": "stream",
     "text": [
      "C:\\Users\\demonki\\anaconda3\\envs\\pytorchenv\\lib\\site-packages\\pytorch_lightning\\callbacks\\model_checkpoint.py:446: UserWarning: Checkpoint directory E:\\ESTUDIOS\\CursoUdemyAIMedicalImages\\AI-IN-MEDICAL-MATERIALS\\05-Detection\\models exists and is not empty.\n",
      "  rank_zero_warn(f\"Checkpoint directory {dirpath} exists and is not empty.\")\n"
     ]
    }
   ],
   "source": [
    "checkpoint_callback = ModelCheckpoint(\n",
    "    monitor=\"avg_val_loss\",        # Monitorea la pérdida de validación promedio\n",
    "    mode=\"min\",                    # Queremos minimizar la val_loss\n",
    "    save_top_k=1,                  # Solo guarda el mejor modelo\n",
    "    dirpath=BASE_DIR / \"models\",   # Carpeta donde guardar el modelo\n",
    "    filename=\"best-cardiac-detection\",  # Nombre base del archivo\n",
    "    save_last=True                 # Opcional: también guarda el último modelo\n",
    ")\n"
   ]
  },
  {
   "cell_type": "code",
   "execution_count": 47,
   "id": "extended-playing",
   "metadata": {},
   "outputs": [
    {
     "name": "stderr",
     "output_type": "stream",
     "text": [
      "GPU available: True, used: True\n",
      "TPU available: False, using: 0 TPU cores\n",
      "IPU available: False, using: 0 IPUs\n"
     ]
    }
   ],
   "source": [
    "# Create the trainer\n",
    "# Change the gpus parameter to the number of available gpus in your computer. Use 0 for CPU training\n",
    "\n",
    "trainer = pl.Trainer(\n",
    "    gpus=1,\n",
    "    logger=TensorBoardLogger(BASE_DIR / \"logs\", name=\"cardiac_detection\"),\n",
    "    default_root_dir=BASE_DIR / \"models\",\n",
    "    callbacks=[checkpoint_callback],\n",
    "    max_epochs=100\n",
    ")\n"
   ]
  },
  {
   "cell_type": "code",
   "execution_count": 48,
   "id": "massive-bunch",
   "metadata": {
    "scrolled": true
   },
   "outputs": [
    {
     "name": "stderr",
     "output_type": "stream",
     "text": [
      "LOCAL_RANK: 0 - CUDA_VISIBLE_DEVICES: [0]\n",
      "\n",
      "  | Name    | Type    | Params\n",
      "------------------------------------\n",
      "0 | model   | ResNet  | 11.2 M\n",
      "1 | loss_fn | MSELoss | 0     \n",
      "------------------------------------\n",
      "11.2 M    Trainable params\n",
      "0         Non-trainable params\n",
      "11.2 M    Total params\n",
      "44.689    Total estimated model params size (MB)\n"
     ]
    },
    {
     "data": {
      "application/vnd.jupyter.widget-view+json": {
       "model_id": "",
       "version_major": 2,
       "version_minor": 0
      },
      "text/plain": [
       "Validation sanity check: 0it [00:00, ?it/s]"
      ]
     },
     "metadata": {},
     "output_type": "display_data"
    },
    {
     "name": "stderr",
     "output_type": "stream",
     "text": [
      "C:\\Users\\demonki\\anaconda3\\envs\\pytorchenv\\lib\\site-packages\\pytorch_lightning\\trainer\\data_loading.py:105: UserWarning: The dataloader, val dataloader 0, does not have many workers which may be a bottleneck. Consider increasing the value of the `num_workers` argument` (try 12 which is the number of cpus on this machine) in the `DataLoader` init to improve performance.\n",
      "  rank_zero_warn(\n",
      "C:\\Users\\demonki\\anaconda3\\envs\\pytorchenv\\lib\\site-packages\\pytorch_lightning\\trainer\\data_loading.py:105: UserWarning: The dataloader, train dataloader, does not have many workers which may be a bottleneck. Consider increasing the value of the `num_workers` argument` (try 12 which is the number of cpus on this machine) in the `DataLoader` init to improve performance.\n",
      "  rank_zero_warn(\n"
     ]
    },
    {
     "data": {
      "application/vnd.jupyter.widget-view+json": {
       "model_id": "5471f17ab07143e78764a30381d4a975",
       "version_major": 2,
       "version_minor": 0
      },
      "text/plain": [
       "Training: -1it [00:00, ?it/s]"
      ]
     },
     "metadata": {},
     "output_type": "display_data"
    },
    {
     "data": {
      "application/vnd.jupyter.widget-view+json": {
       "model_id": "",
       "version_major": 2,
       "version_minor": 0
      },
      "text/plain": [
       "Validating: 0it [00:00, ?it/s]"
      ]
     },
     "metadata": {},
     "output_type": "display_data"
    },
    {
     "data": {
      "application/vnd.jupyter.widget-view+json": {
       "model_id": "",
       "version_major": 2,
       "version_minor": 0
      },
      "text/plain": [
       "Validating: 0it [00:00, ?it/s]"
      ]
     },
     "metadata": {},
     "output_type": "display_data"
    },
    {
     "data": {
      "application/vnd.jupyter.widget-view+json": {
       "model_id": "",
       "version_major": 2,
       "version_minor": 0
      },
      "text/plain": [
       "Validating: 0it [00:00, ?it/s]"
      ]
     },
     "metadata": {},
     "output_type": "display_data"
    },
    {
     "name": "stderr",
     "output_type": "stream",
     "text": [
      "C:\\Users\\demonki\\anaconda3\\envs\\pytorchenv\\lib\\site-packages\\pytorch_lightning\\trainer\\trainer.py:1051: UserWarning: Detected KeyboardInterrupt, attempting graceful shutdown...\n",
      "  rank_zero_warn(\"Detected KeyboardInterrupt, attempting graceful shutdown...\")\n"
     ]
    }
   ],
   "source": [
    "# Train the detection model\n",
    "trainer.fit(model, train_loader, val_loader)"
   ]
  },
  {
   "cell_type": "markdown",
   "id": "whole-designer",
   "metadata": {},
   "source": [
    "## Evaluation"
   ]
  },
  {
   "cell_type": "code",
   "execution_count": 29,
   "id": "listed-double",
   "metadata": {},
   "outputs": [],
   "source": [
    "import matplotlib.pyplot as plt\n",
    "import matplotlib.patches as patches\n"
   ]
  },
  {
   "cell_type": "markdown",
   "id": "2a34587e",
   "metadata": {},
   "source": [
    "We load the best model checkpoint saved during training and set it to evaluation mode.  \n",
    "We also export the recorded training and validation losses to a CSV file for further analysis."
   ]
  },
  {
   "cell_type": "code",
   "execution_count": 31,
   "id": "atmospheric-royalty",
   "metadata": {
    "scrolled": true
   },
   "outputs": [],
   "source": [
    "device = torch.device(\"cuda:0\" if torch.cuda.is_available() else \"cpu\")\n",
    "model = CardiacDetectionModel.load_from_checkpoint(BASE_DIR / \"models\" / \"best-cardiac-detection.ckpt\")\n",
    "model.eval();\n",
    "model.to(device)\n",
    "model.save_metrics(BASE_DIR / \"models\" / \"training_metrics.csv\")"
   ]
  },
  {
   "cell_type": "markdown",
   "id": "complete-contemporary",
   "metadata": {},
   "source": [
    "We iterate over the validation dataset and store both the predicted and ground truth bounding boxes.\n",
    "\n",
    "Each prediction consists of 4 continuous values:\n",
    "- `[x0, y0, x1, y1]`, representing the top-left and bottom-right corners of the predicted bounding box.\n",
    "\n",
    "Unlike typical classification tasks, here the model outputs a coordinate-based regression result.  \n",
    "This makes it especially important to compare predictions visually and evaluate how closely the predicted box overlaps the true one."
   ]
  },
  {
   "cell_type": "code",
   "execution_count": 32,
   "id": "labeled-witness",
   "metadata": {
    "scrolled": true
   },
   "outputs": [],
   "source": [
    "preds = []\n",
    "labels = []\n",
    "\n",
    "with torch.no_grad():\n",
    "    for data, label in val_dataset:\n",
    "        data = data.to(device).float().unsqueeze(0)\n",
    "        pred = model(data)[0].cpu()\n",
    "        preds.append(pred)\n",
    "        labels.append(label)\n",
    "        \n",
    "preds=torch.stack(preds)\n",
    "labels=torch.stack(labels)"
   ]
  },
  {
   "cell_type": "markdown",
   "id": "residential-cleanup",
   "metadata": {},
   "source": [
    "This line gives us the average pixel distance between the predicted and true values for each of those four coordinates — giving a precise measure of how far off the predicted box is, per side."
   ]
  },
  {
   "cell_type": "code",
   "execution_count": 33,
   "id": "stainless-construction",
   "metadata": {
    "scrolled": false
   },
   "outputs": [
    {
     "data": {
      "text/plain": [
       "tensor([4.0121, 4.1161, 4.5524, 5.4934])"
      ]
     },
     "execution_count": 33,
     "metadata": {},
     "output_type": "execute_result"
    }
   ],
   "source": [
    "abs(preds-labels).mean(0)"
   ]
  },
  {
   "cell_type": "markdown",
   "id": "mexican-video",
   "metadata": {},
   "source": [
    "This allows us to inspect a specific image and compare its predicted and ground truth bounding boxes.\n",
    "\n",
    "- Retrieves the image and true bounding box from the dataset.\n",
    "- Retrieves the corresponding predicted bounding box from the previously computed predictions.\n",
    "- Uses matplotlib to display the image and overlay the predicted bounding box in red.\n",
    "\n",
    "The red rectangle shows the model’s predicted location of the heart.\n",
    "By changing IDX, we can manually inspect how well the model is performing across different samples."
   ]
  },
  {
   "cell_type": "code",
   "execution_count": 36,
   "id": "interim-shield",
   "metadata": {
    "scrolled": true
   },
   "outputs": [
    {
     "name": "stdout",
     "output_type": "stream",
     "text": [
      "tensor([ 52,  65, 135, 180])\n"
     ]
    },
    {
     "data": {
      "image/png": "[encoded data removed]",
      "text/plain": [
       "<Figure size 432x288 with 1 Axes>"
      ]
     },
     "metadata": {
      "needs_background": "light"
     },
     "output_type": "display_data"
    }
   ],
   "source": [
    "IDX = 41  # Feel free to inspect all validation samples by changing the index\n",
    "img, label = val_dataset[IDX]\n",
    "current_pred = preds[IDX]\n",
    "\n",
    "fig, axis = plt.subplots(1, 1)\n",
    "axis.imshow(img[0], cmap=\"bone\")\n",
    "heart = patches.Rectangle((current_pred[0], current_pred[1]), current_pred[2]-current_pred[0],\n",
    "                          current_pred[3]-current_pred[1], linewidth=1, edgecolor='r', facecolor='none')\n",
    "axis.add_patch(heart)\n",
    "\n",
    "print(label)"
   ]
  },
  {
   "cell_type": "markdown",
   "id": "ea1f53f0",
   "metadata": {},
   "source": [
    "### Visualizing training results with TensorBoard\n",
    "\n",
    "To explore the training progress interactively, you can launch TensorBoard by running the following command from your project directory:\n",
    "\n",
    "tensorboard --logdir=logs/cardiac_detection\n",
    "\n",
    "This will open a browser window where you can visually track the evolution of training and validation losses, and inspect image samples with predicted and ground truth bounding boxes.\n",
    "\n",
    "#### Interpreting the loss curves\n",
    "- Both avg_train_loss and avg_val_loss decrease steadily and converge near zero.\n",
    "- The validation loss closely follows the training loss throughout the training, indicating that the model is not overfitting.\n",
    "- This behavior shows that the model has successfully learned to minimize prediction error on both training and unseen validation data.\n",
    "\n",
    "#### Visual verification of predictions\n",
    "In addition to the metrics, we can also inspect the predicted bounding boxes compared to the ground truth.\n",
    "\n",
    "By checking the logged images in TensorBoard, we see that the predicted boxes are almost perfectly aligned with the actual ones.\n",
    "This confirms that the model has learned to accurately localize the heart in chest X-ray images."
   ]
  },
  {
   "cell_type": "markdown",
   "id": "negative-snapshot",
   "metadata": {},
   "source": [
    "Awesome, looks like we got a working heart detection!"
   ]
  },
  {
   "cell_type": "code",
   "execution_count": null,
   "id": "a161cbb3",
   "metadata": {},
   "outputs": [],
   "source": []
  }
 ],
 "metadata": {
  "kernelspec": {
   "display_name": "Python 3 (ipykernel)",
   "language": "python",
   "name": "python3"
  },
  "language_info": {
   "codemirror_mode": {
    "name": "ipython",
    "version": 3
   },
   "file_extension": ".py",
   "mimetype": "text/x-python",
   "name": "python",
   "nbconvert_exporter": "python",
   "pygments_lexer": "ipython3",
   "version": "3.8.0"
  }
 },
 "nbformat": 4,
 "nbformat_minor": 5
}
